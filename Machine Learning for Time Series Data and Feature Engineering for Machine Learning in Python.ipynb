{
 "cells": [
  {
   "cell_type": "markdown",
   "id": "8bb4ff50",
   "metadata": {},
   "source": [
    "# Machine Learning for Time Series Data and Feature Engineering for Machine Learning in Python"
   ]
  },
  {
   "cell_type": "markdown",
   "id": "afd120a2",
   "metadata": {},
   "source": [
    "# Machine Learning for Time Series Data in Python"
   ]
  },
  {
   "cell_type": "markdown",
   "id": "ed617815",
   "metadata": {},
   "source": [
    "Real-world data sets are essential for developing and testing machine learning models. You might just need some data to play with with an algorithm. You can also wish to assess your model by creating a benchmark or identifying its flaws using several data sets. You might also want to make synthetic datasets to test your algorithms under controlled conditions by introducing noise, correlations, or redundant data to the data."
   ]
  },
  {
   "cell_type": "markdown",
   "id": "e898f245",
   "metadata": {},
   "source": [
    "Loading Data Using pandas-datareader"
   ]
  },
  {
   "cell_type": "markdown",
   "id": "be387268",
   "metadata": {},
   "source": [
    "Anyone can use the pandas datareader library to get data from a variety of places, including Yahoo Finance for financial market data, the World Bank for global development data, and the St. Louis Fed for economic data. We'll teach you how to load data from several sources in this section.\n",
    "\n",
    "Pandas datareader gets data from the web in real time and assembles it into a pandas DataFrame behind the scenes. Each data source requires a distinct reader due to the drastically diverse structure of web pages. As a result, pandas datareader can only read from a small number of sources, most of which are connected to financial and economic time series."
   ]
  },
  {
   "cell_type": "markdown",
   "id": "a63c0adf",
   "metadata": {},
   "source": [
    "Data retrieval is straightforward. Because we know Apple's stock ticker is AAPL, we can collect daily historical Apple stock prices from Yahoo Finance as follows:"
   ]
  },
  {
   "cell_type": "code",
   "execution_count": 1,
   "id": "1002fea3",
   "metadata": {},
   "outputs": [
    {
     "name": "stdout",
     "output_type": "stream",
     "text": [
      "                  High         Low        Open       Close       Volume  \\\n",
      "Date                                                                      \n",
      "2020-12-31  134.740005  131.720001  134.080002  132.690002   99116600.0   \n",
      "2021-01-04  133.610001  126.760002  133.520004  129.410004  143301900.0   \n",
      "2021-01-05  131.740005  128.429993  128.889999  131.009995   97664900.0   \n",
      "2021-01-06  131.050003  126.379997  127.720001  126.599998  155088000.0   \n",
      "2021-01-07  131.630005  127.860001  128.360001  130.919998  109578200.0   \n",
      "...                ...         ...         ...         ...          ...   \n",
      "2021-12-27  180.419998  177.070007  177.089996  180.330002   74919600.0   \n",
      "2021-12-28  181.330002  178.529999  180.160004  179.289993   79144300.0   \n",
      "2021-12-29  180.630005  178.139999  179.330002  179.380005   62348900.0   \n",
      "2021-12-30  180.570007  178.089996  179.470001  178.199997   59773000.0   \n",
      "2021-12-31  179.229996  177.259995  178.089996  177.570007   64062300.0   \n",
      "\n",
      "             Adj Close  \n",
      "Date                    \n",
      "2020-12-31  131.515976  \n",
      "2021-01-04  128.264999  \n",
      "2021-01-05  129.850830  \n",
      "2021-01-06  125.479858  \n",
      "2021-01-07  129.761627  \n",
      "...                ...  \n",
      "2021-12-27  179.836319  \n",
      "2021-12-28  178.799164  \n",
      "2021-12-29  178.888916  \n",
      "2021-12-30  177.712143  \n",
      "2021-12-31  177.083878  \n",
      "\n",
      "[253 rows x 6 columns]\n"
     ]
    }
   ],
   "source": [
    "import pandas_datareader as pdr\n",
    "\n",
    "# Reading Apple shares from yahoo finance server    \n",
    "shares_df = pdr.DataReader('AAPL', 'yahoo', start='2021-01-01', end='2021-12-31')\n",
    "# Look at the data read\n",
    "print(shares_df)"
   ]
  },
  {
   "cell_type": "markdown",
   "id": "bb875c77",
   "metadata": {},
   "source": [
    "The first argument to DataReader() specifies the ticker, while the second argument specifies the data source."
   ]
  },
  {
   "cell_type": "markdown",
   "id": "69c13faf",
   "metadata": {},
   "source": [
    "We can also get stock price history from many firms using a list of tickers:"
   ]
  },
  {
   "cell_type": "code",
   "execution_count": 2,
   "id": "08a8c1a7",
   "metadata": {},
   "outputs": [
    {
     "name": "stdout",
     "output_type": "stream",
     "text": [
      "Attributes   Adj Close                              Close              \\\n",
      "Symbols           AAPL        MSFT         GE        AAPL        MSFT   \n",
      "Date                                                                    \n",
      "2020-12-31  131.515976  220.115952  86.050934  132.690002  222.419998   \n",
      "2021-01-04  128.264984  215.434982  83.421608  129.410004  217.690002   \n",
      "2021-01-05  129.850830  215.642776  85.811913  131.009995  217.899994   \n",
      "2021-01-06  125.479851  210.051300  90.512840  126.599998  212.250000   \n",
      "2021-01-07  129.761627  216.028748  89.795753  130.919998  218.289993   \n",
      "\n",
      "Attributes                   High                                Low  \\\n",
      "Symbols            GE        AAPL        MSFT         GE        AAPL   \n",
      "Date                                                                   \n",
      "2020-12-31  86.400002  134.740005  223.000000  86.639999  131.720001   \n",
      "2021-01-04  83.760002  133.610001  223.000000  87.199997  126.760002   \n",
      "2021-01-05  86.160004  131.740005  218.520004  87.040001  128.429993   \n",
      "2021-01-06  90.879997  131.050003  216.490005  92.959999  126.379997   \n",
      "2021-01-07  90.160004  131.630005  219.339996  92.559998  127.860001   \n",
      "\n",
      "Attributes                               Open                         \\\n",
      "Symbols           MSFT         GE        AAPL        MSFT         GE   \n",
      "Date                                                                   \n",
      "2020-12-31  219.679993  84.639999  134.080002  221.699997  85.199997   \n",
      "2021-01-04  214.809998  83.199997  133.520004  222.529999  87.120003   \n",
      "2021-01-05  215.699997  83.360001  128.889999  217.259995  83.440002   \n",
      "2021-01-06  211.940002  86.639999  127.720001  212.169998  86.639999   \n",
      "2021-01-07  213.710007  89.919998  128.360001  214.039993  92.480003   \n",
      "\n",
      "Attributes       Volume                          \n",
      "Symbols            AAPL        MSFT          GE  \n",
      "Date                                             \n",
      "2020-12-31   99116600.0  20942100.0   5962788.0  \n",
      "2021-01-04  143301900.0  37130100.0   9993688.0  \n",
      "2021-01-05   97664900.0  23823000.0  10462538.0  \n",
      "2021-01-06  155088000.0  35930700.0  16448075.0  \n",
      "2021-01-07  109578200.0  27694500.0   9411225.0  \n"
     ]
    }
   ],
   "source": [
    "companies = ['AAPL', 'MSFT', 'GE']\n",
    "shares_multiple_df = pdr.DataReader(companies, 'yahoo', start='2021-01-01', end='2021-12-31')\n",
    "print(shares_multiple_df.head())"
   ]
  },
  {
   "cell_type": "markdown",
   "id": "007adb0c",
   "metadata": {},
   "source": [
    "Because of the structure of DataFrames, extracting parts of the data is simple. For example, for some dates, we can plot only the daily close price using the following formula:"
   ]
  },
  {
   "cell_type": "code",
   "execution_count": 3,
   "id": "a880f521",
   "metadata": {},
   "outputs": [
    {
     "data": {
      "image/png": "[encoded data removed]",
      "text/plain": [
       "<Figure size 1080x504 with 1 Axes>"
      ]
     },
     "metadata": {
      "needs_background": "light"
     },
     "output_type": "display_data"
    }
   ],
   "source": [
    "import matplotlib.pyplot as plt\n",
    "import matplotlib.ticker as ticker\n",
    "\n",
    "# General routine for plotting time series data\n",
    "def plot_timeseries_df(df, attrib, ticker_loc=1, title='Timeseries', \n",
    "                       legend=''):\n",
    "    fig = plt.figure(figsize=(15,7))\n",
    "    plt.plot(df[attrib], 'o-')\n",
    "    _ = plt.xticks(rotation=90)\n",
    "    plt.gca().xaxis.set_major_locator(ticker.MultipleLocator(ticker_loc))\n",
    "    plt.title(title)\n",
    "    plt.gca().legend(legend)\n",
    "    plt.show()\n",
    "\n",
    "plot_timeseries_df(shares_multiple_df.loc[\"2021-04-01\":\"2021-06-30\"], \"Close\",\n",
    "                   ticker_loc=3, title=\"Close price\", legend=companies)"
   ]
  },
  {
   "cell_type": "markdown",
   "id": "fe787039",
   "metadata": {},
   "source": [
    "The following is the whole code:"
   ]
  },
  {
   "cell_type": "code",
   "execution_count": 4,
   "id": "196dcaa4",
   "metadata": {},
   "outputs": [
    {
     "name": "stdout",
     "output_type": "stream",
     "text": [
      "Attributes   Adj Close                              Close              \\\n",
      "Symbols           AAPL        MSFT         GE        AAPL        MSFT   \n",
      "Date                                                                    \n",
      "2020-12-31  131.515976  220.115967  86.050941  132.690002  222.419998   \n",
      "2021-01-04  128.264999  215.434967  83.421608  129.410004  217.690002   \n",
      "2021-01-05  129.850830  215.642792  85.811897  131.009995  217.899994   \n",
      "2021-01-06  125.479843  210.051300  90.512833  126.599998  212.250000   \n",
      "2021-01-07  129.761627  216.028748  89.795753  130.919998  218.289993   \n",
      "...                ...         ...        ...         ...         ...   \n",
      "2021-12-27  179.836319  341.743378  94.535088  180.330002  342.450012   \n",
      "2021-12-28  178.799149  340.545837  95.214478  179.289993  341.250000   \n",
      "2021-12-29  178.888916  341.244415  94.704933  179.380005  341.950012   \n",
      "2021-12-30  177.712143  338.619843  94.615005  178.199997  339.320007   \n",
      "2021-12-31  177.083878  335.626038  94.385216  177.570007  336.320007   \n",
      "\n",
      "Attributes                   High                                Low  \\\n",
      "Symbols            GE        AAPL        MSFT         GE        AAPL   \n",
      "Date                                                                   \n",
      "2020-12-31  86.400002  134.740005  223.000000  86.639999  131.720001   \n",
      "2021-01-04  83.760002  133.610001  223.000000  87.199997  126.760002   \n",
      "2021-01-05  86.160004  131.740005  218.520004  87.040001  128.429993   \n",
      "2021-01-06  90.879997  131.050003  216.490005  92.959999  126.379997   \n",
      "2021-01-07  90.160004  131.630005  219.339996  92.559998  127.860001   \n",
      "...               ...         ...         ...        ...         ...   \n",
      "2021-12-27  94.620003  180.419998  342.480011  94.669998  177.070007   \n",
      "2021-12-28  95.300003  181.330002  343.809998  96.080002  178.529999   \n",
      "2021-12-29  94.790001  180.630005  344.299988  95.480003  178.139999   \n",
      "2021-12-30  94.699997  180.570007  343.130005  95.980003  178.089996   \n",
      "2021-12-31  94.470001  179.229996  339.359985  94.970001  177.259995   \n",
      "\n",
      "Attributes                               Open                         \\\n",
      "Symbols           MSFT         GE        AAPL        MSFT         GE   \n",
      "Date                                                                   \n",
      "2020-12-31  219.679993  84.639999  134.080002  221.699997  85.199997   \n",
      "2021-01-04  214.809998  83.199997  133.520004  222.529999  87.120003   \n",
      "2021-01-05  215.699997  83.360001  128.889999  217.259995  83.440002   \n",
      "2021-01-06  211.940002  86.639999  127.720001  212.169998  86.639999   \n",
      "2021-01-07  213.710007  89.919998  128.360001  214.039993  92.480003   \n",
      "...                ...        ...         ...         ...        ...   \n",
      "2021-12-27  335.429993  93.449997  177.089996  335.459991  93.629997   \n",
      "2021-12-28  340.320007  94.239998  180.160004  343.149994  94.430000   \n",
      "2021-12-29  339.679993  94.440002  179.330002  341.299988  95.000000   \n",
      "2021-12-30  338.820007  94.529999  179.470001  341.910004  94.660004   \n",
      "2021-12-31  335.850006  93.900002  178.089996  338.510010  94.500000   \n",
      "\n",
      "Attributes       Volume                          \n",
      "Symbols            AAPL        MSFT          GE  \n",
      "Date                                             \n",
      "2020-12-31   99116600.0  20942100.0   5962788.0  \n",
      "2021-01-04  143301900.0  37130100.0   9993688.0  \n",
      "2021-01-05   97664900.0  23823000.0  10462538.0  \n",
      "2021-01-06  155088000.0  35930700.0  16448075.0  \n",
      "2021-01-07  109578200.0  27694500.0   9411225.0  \n",
      "...                 ...         ...         ...  \n",
      "2021-12-27   74919600.0  19947000.0   3428900.0  \n",
      "2021-12-28   79144300.0  15661500.0   4051900.0  \n",
      "2021-12-29   62348900.0  15042000.0   3490500.0  \n",
      "2021-12-30   59773000.0  15994500.0   3269000.0  \n",
      "2021-12-31   64062300.0  18000800.0   3795700.0  \n",
      "\n",
      "[253 rows x 18 columns]\n"
     ]
    },
    {
     "data": {
      "image/png": "[encoded data removed]",
      "text/plain": [
       "<Figure size 1080x504 with 1 Axes>"
      ]
     },
     "metadata": {
      "needs_background": "light"
     },
     "output_type": "display_data"
    }
   ],
   "source": [
    "import pandas_datareader as pdr\n",
    "import matplotlib.pyplot as plt\n",
    "import matplotlib.ticker as ticker\n",
    "\n",
    "companies = ['AAPL', 'MSFT', 'GE']\n",
    "shares_multiple_df = pdr.DataReader(companies, 'yahoo', start='2021-01-01', end='2021-12-31')\n",
    "print(shares_multiple_df)\n",
    "\n",
    "def plot_timeseries_df(df, attrib, ticker_loc=1, title='Timeseries', legend=''):\n",
    "    \"General routine for plotting time series data\"\n",
    "    fig = plt.figure(figsize=(15,7))\n",
    "    plt.plot(df[attrib], 'o-')\n",
    "    _ = plt.xticks(rotation=90)\n",
    "    plt.gca().xaxis.set_major_locator(ticker.MultipleLocator(ticker_loc))\n",
    "    plt.title(title)\n",
    "    plt.gca().legend(legend)\n",
    "    plt.show()\n",
    "\n",
    "plot_timeseries_df(shares_multiple_df.loc[\"2021-04-01\":\"2021-06-30\"], \"Close\",\n",
    "                   ticker_loc=3, title=\"Close price\", legend=companies)"
   ]
  },
  {
   "cell_type": "markdown",
   "id": "34a66c98",
   "metadata": {},
   "source": [
    "Using pandas-datareader to read from another data source has a similar syntax.\n",
    "\n",
    "The steps for obtaining two consumer price indices, CPIAUCSL and CPILFESL, and plotting them are as follows:"
   ]
  },
  {
   "cell_type": "code",
   "execution_count": 5,
   "id": "1ee51bc5",
   "metadata": {},
   "outputs": [
    {
     "name": "stdout",
     "output_type": "stream",
     "text": [
      "            CPIAUCSL  CPILFESL\n",
      "DATE                          \n",
      "2010-01-01   217.488   220.633\n",
      "2010-02-01   217.281   220.731\n",
      "2010-03-01   217.353   220.783\n",
      "2010-04-01   217.403   220.822\n",
      "2010-05-01   217.290   220.962\n",
      "...              ...       ...\n",
      "2021-08-01   273.092   279.306\n",
      "2021-09-01   274.214   280.017\n",
      "2021-10-01   276.590   281.705\n",
      "2021-11-01   278.524   283.179\n",
      "2021-12-01   280.126   284.770\n",
      "\n",
      "[144 rows x 2 columns]\n"
     ]
    },
    {
     "data": {
      "image/png": "[encoded data removed]",
      "text/plain": [
       "<Figure size 1080x504 with 1 Axes>"
      ]
     },
     "metadata": {
      "needs_background": "light"
     },
     "output_type": "display_data"
    }
   ],
   "source": [
    "import pandas_datareader as pdr\n",
    "import matplotlib.pyplot as plt\n",
    "\n",
    "# Read data from FRED and print\n",
    "fred_df = pdr.DataReader(['CPIAUCSL','CPILFESL'], 'fred', \"2010-01-01\", \"2021-12-31\")\n",
    "print(fred_df)\n",
    "\n",
    "# Show in plot the data of 2019-2021\n",
    "fig = plt.figure(figsize=(15,7))\n",
    "plt.plot(fred_df.loc[\"2019\":], 'o-')\n",
    "plt.xticks(rotation=90)\n",
    "plt.legend(fred_df.columns)\n",
    "plt.title(\"Consumer Price Index\")\n",
    "plt.show()"
   ]
  },
  {
   "cell_type": "markdown",
   "id": "55c03384",
   "metadata": {},
   "source": [
    "For analyzing and forecasting time-based data, time series algorithms are widely employed. Machine learning has developed as an effective tool for recognizing hidden complexities in time series data and making reasonable forecasts, given the complexity of other elements outside time."
   ]
  },
  {
   "cell_type": "markdown",
   "id": "81b9eca0",
   "metadata": {},
   "source": [
    "# Feature Engineering for Machine Learning in Python\n"
   ]
  },
  {
   "cell_type": "markdown",
   "id": "e90019d9",
   "metadata": {},
   "source": [
    "The most crucial, yet often underestimated, talent in predictive modeling is feature engineering. We use it without even realizing it in our daily lives!\n",
    "\n",
    "Lets imagine you're a bartender and someone approaches you and requests a vodka tonic. When you ask for identification, you notice the person's birthday is \"09/12/1998.\" This information isn't particularly useful, but you can tally up the years with some rapid mental math and discover that the person is 22 years old (which is above the legal drinking age). What happened there, exactly? To answer the question \"Is this individual authorized to drink?\" you took a piece of data (\"09/12/1998\") and translated it into another variable (age)."
   ]
  },
  {
   "cell_type": "markdown",
   "id": "8225c85e",
   "metadata": {},
   "source": [
    "This is exactly what feature engineering is for machine learning models. We alter and manipulate our data to provide our model(s) the best possible representation of our data in order to better forecast our desired outcome. If this isn't completely evident right now, it will be when we go through real-life instances in this essay."
   ]
  },
  {
   "cell_type": "markdown",
   "id": "b765ddd0",
   "metadata": {},
   "source": [
    "For the following reasons, feature engineering is both beneficial and necessary:\n",
    "\n",
    "- Feature engineering approaches like as standardization and normalization typically result in better weighting of variables, which increases accuracy and, in certain cases, speeds up convergence.\n",
    "\n",
    "- Improved interpretability of data relationships: When we create new features and understand how they connect to our desired outcome, we have a better comprehension of the data. We may still acquire a high assessment score if we skip the feature engineering step and utilize complicated models (which to a significant extent automate feature engineering), but at the cost of a deeper grasp of our data and its relationship with the goal variable."
   ]
  },
  {
   "cell_type": "markdown",
   "id": "88adfd5a",
   "metadata": {},
   "source": [
    "Because most models cannot accept specific data forms, feature engineering is required. Missing values cannot be handled by models like linear regression on their own; they must be imputed (filled in). In the next part, we'll examine some examples of this."
   ]
  },
  {
   "cell_type": "markdown",
   "id": "2dd2f3fa",
   "metadata": {},
   "source": [
    "Exploratory Data Analysis (EDA), or the initial analysis of our data, is the first step in every data science pipeline. As we gain a better understanding of what features we need to create/modify, EDA is a critical pre-cursor stage. Depending on how unstructured or chaotic the data is, the following stage is usually data cleaning/standardization.\n",
    "\n",
    "The following step is feature engineering, which begins with an evaluation of the data's baseline performance. Then, using a feature selection method, we iteratively create features and continuously evaluate model performance (and compare it to the baseline performance) until we are satisfied with the findings."
   ]
  },
  {
   "cell_type": "markdown",
   "id": "7bcdd82e",
   "metadata": {},
   "source": [
    "For most tabular datasets, there are two major ways to feature engineering:\n",
    "\n",
    "- The checklist approach: create features using proven and true approaches.\n",
    "- The domain-based approach: involves using domain knowledge about the dataset's subject matter to build additional features."
   ]
  },
  {
   "cell_type": "markdown",
   "id": "d79445f3",
   "metadata": {},
   "source": [
    "We'll now take a closer look at these methods using real-world data. Note that these examples are procedural in nature and are intended to demonstrate how to implement it in Python. The case study that follows this part will show you a real-world end-to-end scenario application of the practices discussed here.\n",
    "\n",
    "Before loading the dataset, we need to import the dependencies listed below."
   ]
  },
  {
   "cell_type": "code",
   "execution_count": 6,
   "id": "93aca1d2",
   "metadata": {},
   "outputs": [],
   "source": [
    "# dependencies\n",
    "\n",
    "import pandas as pd\n",
    "import numpy as np\n",
    "\n",
    "import matplotlib.pyplot as plt\n",
    "import seaborn as sns\n",
    "sns.set_theme()\n",
    "sns.set_palette(sns.color_palette(['#851836', '#edbd17']))\n",
    "sns.set_style(\"darkgrid\")\n",
    "\n",
    "from sklearn.preprocessing import MinMaxScaler\n",
    "from sklearn.decomposition import PCA\n",
    "from sklearn.linear_model import LinearRegression\n",
    "from sklearn.metrics import mean_squared_error\n",
    "from sklearn.model_selection import train_test_split"
   ]
  },
  {
   "cell_type": "markdown",
   "id": "1c1a96e3",
   "metadata": {},
   "source": [
    "We'll use a dataset on grocery sales to demonstrate the checklist approach."
   ]
  },
  {
   "cell_type": "code",
   "execution_count": 7,
   "id": "9fb8e075",
   "metadata": {},
   "outputs": [
    {
     "data": {
      "text/html": [
       "<div>\n",
       "<style scoped>\n",
       "    .dataframe tbody tr th:only-of-type {\n",
       "        vertical-align: middle;\n",
       "    }\n",
       "\n",
       "    .dataframe tbody tr th {\n",
       "        vertical-align: top;\n",
       "    }\n",
       "\n",
       "    .dataframe thead th {\n",
       "        text-align: right;\n",
       "    }\n",
       "</style>\n",
       "<table border=\"1\" class=\"dataframe\">\n",
       "  <thead>\n",
       "    <tr style=\"text-align: right;\">\n",
       "      <th></th>\n",
       "      <th>Invoice ID</th>\n",
       "      <th>Branch</th>\n",
       "      <th>City</th>\n",
       "      <th>Customer type</th>\n",
       "      <th>Gender</th>\n",
       "      <th>Product line</th>\n",
       "      <th>Unit price</th>\n",
       "      <th>Quantity</th>\n",
       "      <th>Tax 5%</th>\n",
       "      <th>Total</th>\n",
       "      <th>Date</th>\n",
       "      <th>Time</th>\n",
       "      <th>Payment</th>\n",
       "      <th>cogs</th>\n",
       "      <th>gross margin percentage</th>\n",
       "      <th>gross income</th>\n",
       "      <th>Rating</th>\n",
       "    </tr>\n",
       "  </thead>\n",
       "  <tbody>\n",
       "    <tr>\n",
       "      <th>0</th>\n",
       "      <td>750-67-8428</td>\n",
       "      <td>A</td>\n",
       "      <td>Yangon</td>\n",
       "      <td>Member</td>\n",
       "      <td>Female</td>\n",
       "      <td>Health and beauty</td>\n",
       "      <td>74.69</td>\n",
       "      <td>7</td>\n",
       "      <td>26.1415</td>\n",
       "      <td>548.9715</td>\n",
       "      <td>1/5/2019</td>\n",
       "      <td>13:08</td>\n",
       "      <td>Ewallet</td>\n",
       "      <td>522.83</td>\n",
       "      <td>4.761905</td>\n",
       "      <td>26.1415</td>\n",
       "      <td>9.1</td>\n",
       "    </tr>\n",
       "    <tr>\n",
       "      <th>1</th>\n",
       "      <td>226-31-3081</td>\n",
       "      <td>C</td>\n",
       "      <td>Naypyitaw</td>\n",
       "      <td>Normal</td>\n",
       "      <td>Female</td>\n",
       "      <td>Electronic accessories</td>\n",
       "      <td>15.28</td>\n",
       "      <td>5</td>\n",
       "      <td>3.8200</td>\n",
       "      <td>80.2200</td>\n",
       "      <td>3/8/2019</td>\n",
       "      <td>10:29</td>\n",
       "      <td>Cash</td>\n",
       "      <td>76.40</td>\n",
       "      <td>4.761905</td>\n",
       "      <td>3.8200</td>\n",
       "      <td>9.6</td>\n",
       "    </tr>\n",
       "    <tr>\n",
       "      <th>2</th>\n",
       "      <td>631-41-3108</td>\n",
       "      <td>A</td>\n",
       "      <td>Yangon</td>\n",
       "      <td>Normal</td>\n",
       "      <td>Male</td>\n",
       "      <td>Home and lifestyle</td>\n",
       "      <td>46.33</td>\n",
       "      <td>7</td>\n",
       "      <td>16.2155</td>\n",
       "      <td>340.5255</td>\n",
       "      <td>3/3/2019</td>\n",
       "      <td>13:23</td>\n",
       "      <td>Credit card</td>\n",
       "      <td>324.31</td>\n",
       "      <td>4.761905</td>\n",
       "      <td>16.2155</td>\n",
       "      <td>7.4</td>\n",
       "    </tr>\n",
       "    <tr>\n",
       "      <th>3</th>\n",
       "      <td>123-19-1176</td>\n",
       "      <td>A</td>\n",
       "      <td>Yangon</td>\n",
       "      <td>Member</td>\n",
       "      <td>Male</td>\n",
       "      <td>Health and beauty</td>\n",
       "      <td>58.22</td>\n",
       "      <td>8</td>\n",
       "      <td>23.2880</td>\n",
       "      <td>489.0480</td>\n",
       "      <td>1/27/2019</td>\n",
       "      <td>20:33</td>\n",
       "      <td>Ewallet</td>\n",
       "      <td>465.76</td>\n",
       "      <td>4.761905</td>\n",
       "      <td>23.2880</td>\n",
       "      <td>8.4</td>\n",
       "    </tr>\n",
       "    <tr>\n",
       "      <th>4</th>\n",
       "      <td>373-73-7910</td>\n",
       "      <td>A</td>\n",
       "      <td>Yangon</td>\n",
       "      <td>Normal</td>\n",
       "      <td>Male</td>\n",
       "      <td>Sports and travel</td>\n",
       "      <td>86.31</td>\n",
       "      <td>7</td>\n",
       "      <td>30.2085</td>\n",
       "      <td>634.3785</td>\n",
       "      <td>2/8/2019</td>\n",
       "      <td>10:37</td>\n",
       "      <td>Ewallet</td>\n",
       "      <td>604.17</td>\n",
       "      <td>4.761905</td>\n",
       "      <td>30.2085</td>\n",
       "      <td>5.3</td>\n",
       "    </tr>\n",
       "  </tbody>\n",
       "</table>\n",
       "</div>"
      ],
      "text/plain": [
       "    Invoice ID Branch       City Customer type  Gender  \\\n",
       "0  750-67-8428      A     Yangon        Member  Female   \n",
       "1  226-31-3081      C  Naypyitaw        Normal  Female   \n",
       "2  631-41-3108      A     Yangon        Normal    Male   \n",
       "3  123-19-1176      A     Yangon        Member    Male   \n",
       "4  373-73-7910      A     Yangon        Normal    Male   \n",
       "\n",
       "             Product line  Unit price  Quantity   Tax 5%     Total       Date  \\\n",
       "0       Health and beauty       74.69         7  26.1415  548.9715   1/5/2019   \n",
       "1  Electronic accessories       15.28         5   3.8200   80.2200   3/8/2019   \n",
       "2      Home and lifestyle       46.33         7  16.2155  340.5255   3/3/2019   \n",
       "3       Health and beauty       58.22         8  23.2880  489.0480  1/27/2019   \n",
       "4       Sports and travel       86.31         7  30.2085  634.3785   2/8/2019   \n",
       "\n",
       "    Time      Payment    cogs  gross margin percentage  gross income  Rating  \n",
       "0  13:08      Ewallet  522.83                 4.761905       26.1415     9.1  \n",
       "1  10:29         Cash   76.40                 4.761905        3.8200     9.6  \n",
       "2  13:23  Credit card  324.31                 4.761905       16.2155     7.4  \n",
       "3  20:33      Ewallet  465.76                 4.761905       23.2880     8.4  \n",
       "4  10:37      Ewallet  604.17                 4.761905       30.2085     5.3  "
      ]
     },
     "execution_count": 7,
     "metadata": {},
     "output_type": "execute_result"
    }
   ],
   "source": [
    "df = pd.read_csv('supermarket_sales.csv')\n",
    "df.head()"
   ]
  },
  {
   "cell_type": "markdown",
   "id": "0f9caed1",
   "metadata": {},
   "source": [
    "# The Checklist Approach\n"
   ]
  },
  {
   "cell_type": "markdown",
   "id": "d5313b29",
   "metadata": {},
   "source": [
    "Numeric Aggregations\n"
   ]
  },
  {
   "cell_type": "markdown",
   "id": "fc3b4755",
   "metadata": {},
   "source": [
    "For longitudinal or panel data, when individuals are repeated, numerical aggregation is a typical feature engineering strategy. We have categorical variables with repeated observations in our dataset (for example, we have multiple entries for each supermarket branch)."
   ]
  },
  {
   "cell_type": "markdown",
   "id": "3207bc7a",
   "metadata": {},
   "source": [
    "Numeric aggregation involves three parameters:\n",
    "\n",
    "- Categorical column\n",
    "- Numeric column(s) to be aggregated\n",
    "- Aggregation type: Mean, median, mode, standard deviation, variance, count etc."
   ]
  },
  {
   "cell_type": "markdown",
   "id": "ee739b2f",
   "metadata": {},
   "source": [
    "Three instances of numeric aggregations based on mean, standard deviation, and count are shown in the code chunk below."
   ]
  },
  {
   "cell_type": "code",
   "execution_count": 8,
   "id": "24284ace",
   "metadata": {},
   "outputs": [],
   "source": [
    "# Numeric aggregations\n",
    "\n",
    "grouped_df = df.groupby('Branch')\n",
    "\n",
    "df[['tax_branch_mean','unit_price_mean']] = grouped_df[['Tax 5%', 'Unit price']].transform('mean')\n",
    "\n",
    "df[['tax_branch_std','unit_price_std']] = grouped_df[['Tax 5%', 'Unit price']].transform('std')\n",
    "\n",
    "df[['product_count','gender_count']] = grouped_df[['Product line', 'Gender']].transform('count')"
   ]
  },
  {
   "cell_type": "markdown",
   "id": "2e4a8f6a",
   "metadata": {},
   "source": [
    "And here are the new features we've added."
   ]
  },
  {
   "cell_type": "code",
   "execution_count": 9,
   "id": "2b6caee7",
   "metadata": {},
   "outputs": [
    {
     "data": {
      "text/html": [
       "<div>\n",
       "<style scoped>\n",
       "    .dataframe tbody tr th:only-of-type {\n",
       "        vertical-align: middle;\n",
       "    }\n",
       "\n",
       "    .dataframe tbody tr th {\n",
       "        vertical-align: top;\n",
       "    }\n",
       "\n",
       "    .dataframe thead th {\n",
       "        text-align: right;\n",
       "    }\n",
       "</style>\n",
       "<table border=\"1\" class=\"dataframe\">\n",
       "  <thead>\n",
       "    <tr style=\"text-align: right;\">\n",
       "      <th></th>\n",
       "      <th>Branch</th>\n",
       "      <th>tax_branch_mean</th>\n",
       "      <th>unit_price_mean</th>\n",
       "      <th>tax_branch_std</th>\n",
       "      <th>unit_price_std</th>\n",
       "      <th>product_count</th>\n",
       "      <th>gender_count</th>\n",
       "    </tr>\n",
       "  </thead>\n",
       "  <tbody>\n",
       "    <tr>\n",
       "      <th>0</th>\n",
       "      <td>A</td>\n",
       "      <td>14.874001</td>\n",
       "      <td>54.780853</td>\n",
       "      <td>11.030477</td>\n",
       "      <td>26.132127</td>\n",
       "      <td>340</td>\n",
       "      <td>340</td>\n",
       "    </tr>\n",
       "    <tr>\n",
       "      <th>1</th>\n",
       "      <td>C</td>\n",
       "      <td>16.052367</td>\n",
       "      <td>56.609024</td>\n",
       "      <td>12.531470</td>\n",
       "      <td>27.179799</td>\n",
       "      <td>328</td>\n",
       "      <td>328</td>\n",
       "    </tr>\n",
       "    <tr>\n",
       "      <th>2</th>\n",
       "      <td>A</td>\n",
       "      <td>14.874001</td>\n",
       "      <td>54.780853</td>\n",
       "      <td>11.030477</td>\n",
       "      <td>26.132127</td>\n",
       "      <td>340</td>\n",
       "      <td>340</td>\n",
       "    </tr>\n",
       "    <tr>\n",
       "      <th>3</th>\n",
       "      <td>A</td>\n",
       "      <td>14.874001</td>\n",
       "      <td>54.780853</td>\n",
       "      <td>11.030477</td>\n",
       "      <td>26.132127</td>\n",
       "      <td>340</td>\n",
       "      <td>340</td>\n",
       "    </tr>\n",
       "    <tr>\n",
       "      <th>4</th>\n",
       "      <td>A</td>\n",
       "      <td>14.874001</td>\n",
       "      <td>54.780853</td>\n",
       "      <td>11.030477</td>\n",
       "      <td>26.132127</td>\n",
       "      <td>340</td>\n",
       "      <td>340</td>\n",
       "    </tr>\n",
       "    <tr>\n",
       "      <th>5</th>\n",
       "      <td>C</td>\n",
       "      <td>16.052367</td>\n",
       "      <td>56.609024</td>\n",
       "      <td>12.531470</td>\n",
       "      <td>27.179799</td>\n",
       "      <td>328</td>\n",
       "      <td>328</td>\n",
       "    </tr>\n",
       "    <tr>\n",
       "      <th>6</th>\n",
       "      <td>A</td>\n",
       "      <td>14.874001</td>\n",
       "      <td>54.780853</td>\n",
       "      <td>11.030477</td>\n",
       "      <td>26.132127</td>\n",
       "      <td>340</td>\n",
       "      <td>340</td>\n",
       "    </tr>\n",
       "    <tr>\n",
       "      <th>7</th>\n",
       "      <td>C</td>\n",
       "      <td>16.052367</td>\n",
       "      <td>56.609024</td>\n",
       "      <td>12.531470</td>\n",
       "      <td>27.179799</td>\n",
       "      <td>328</td>\n",
       "      <td>328</td>\n",
       "    </tr>\n",
       "    <tr>\n",
       "      <th>8</th>\n",
       "      <td>A</td>\n",
       "      <td>14.874001</td>\n",
       "      <td>54.780853</td>\n",
       "      <td>11.030477</td>\n",
       "      <td>26.132127</td>\n",
       "      <td>340</td>\n",
       "      <td>340</td>\n",
       "    </tr>\n",
       "    <tr>\n",
       "      <th>9</th>\n",
       "      <td>B</td>\n",
       "      <td>15.232024</td>\n",
       "      <td>55.659277</td>\n",
       "      <td>11.545122</td>\n",
       "      <td>26.224559</td>\n",
       "      <td>332</td>\n",
       "      <td>332</td>\n",
       "    </tr>\n",
       "  </tbody>\n",
       "</table>\n",
       "</div>"
      ],
      "text/plain": [
       "  Branch  tax_branch_mean  unit_price_mean  tax_branch_std  unit_price_std  \\\n",
       "0      A        14.874001        54.780853       11.030477       26.132127   \n",
       "1      C        16.052367        56.609024       12.531470       27.179799   \n",
       "2      A        14.874001        54.780853       11.030477       26.132127   \n",
       "3      A        14.874001        54.780853       11.030477       26.132127   \n",
       "4      A        14.874001        54.780853       11.030477       26.132127   \n",
       "5      C        16.052367        56.609024       12.531470       27.179799   \n",
       "6      A        14.874001        54.780853       11.030477       26.132127   \n",
       "7      C        16.052367        56.609024       12.531470       27.179799   \n",
       "8      A        14.874001        54.780853       11.030477       26.132127   \n",
       "9      B        15.232024        55.659277       11.545122       26.224559   \n",
       "\n",
       "   product_count  gender_count  \n",
       "0            340           340  \n",
       "1            328           328  \n",
       "2            340           340  \n",
       "3            340           340  \n",
       "4            340           340  \n",
       "5            328           328  \n",
       "6            340           340  \n",
       "7            328           328  \n",
       "8            340           340  \n",
       "9            332           332  "
      ]
     },
     "execution_count": 9,
     "metadata": {},
     "output_type": "execute_result"
    }
   ],
   "source": [
    "df[['Branch', 'tax_branch_mean', 'unit_price_mean', 'tax_branch_std',\n",
    "    'unit_price_std', 'product_count', 'gender_count']].head(10)"
   ]
  },
  {
   "cell_type": "markdown",
   "id": "ac8b03b7",
   "metadata": {},
   "source": [
    "There appear to be duplicate rows because we're viewing a column subset of the whole df. When you see the rest of the columns, you'll discover that while there are no duplicate rows, there are duplicate values. This is intentional."
   ]
  },
  {
   "cell_type": "markdown",
   "id": "0df8a72d",
   "metadata": {},
   "source": [
    "Choosing numeric aggregation parameters\n"
   ]
  },
  {
   "cell_type": "code",
   "execution_count": 10,
   "id": "5377a945",
   "metadata": {},
   "outputs": [
    {
     "data": {
      "text/html": [
       "<div>\n",
       "<style scoped>\n",
       "    .dataframe tbody tr th:only-of-type {\n",
       "        vertical-align: middle;\n",
       "    }\n",
       "\n",
       "    .dataframe tbody tr th {\n",
       "        vertical-align: top;\n",
       "    }\n",
       "\n",
       "    .dataframe thead th {\n",
       "        text-align: right;\n",
       "    }\n",
       "</style>\n",
       "<table border=\"1\" class=\"dataframe\">\n",
       "  <thead>\n",
       "    <tr style=\"text-align: right;\">\n",
       "      <th></th>\n",
       "      <th>Tax 5%</th>\n",
       "      <th>Unit price</th>\n",
       "      <th>Branch</th>\n",
       "      <th>tax_branch_mean</th>\n",
       "      <th>unit_price_mean</th>\n",
       "    </tr>\n",
       "  </thead>\n",
       "  <tbody>\n",
       "    <tr>\n",
       "      <th>0</th>\n",
       "      <td>26.1415</td>\n",
       "      <td>74.69</td>\n",
       "      <td>A</td>\n",
       "      <td>14.874001</td>\n",
       "      <td>54.780853</td>\n",
       "    </tr>\n",
       "    <tr>\n",
       "      <th>1</th>\n",
       "      <td>3.8200</td>\n",
       "      <td>15.28</td>\n",
       "      <td>C</td>\n",
       "      <td>16.052367</td>\n",
       "      <td>56.609024</td>\n",
       "    </tr>\n",
       "    <tr>\n",
       "      <th>2</th>\n",
       "      <td>16.2155</td>\n",
       "      <td>46.33</td>\n",
       "      <td>A</td>\n",
       "      <td>14.874001</td>\n",
       "      <td>54.780853</td>\n",
       "    </tr>\n",
       "    <tr>\n",
       "      <th>3</th>\n",
       "      <td>23.2880</td>\n",
       "      <td>58.22</td>\n",
       "      <td>A</td>\n",
       "      <td>14.874001</td>\n",
       "      <td>54.780853</td>\n",
       "    </tr>\n",
       "    <tr>\n",
       "      <th>4</th>\n",
       "      <td>30.2085</td>\n",
       "      <td>86.31</td>\n",
       "      <td>A</td>\n",
       "      <td>14.874001</td>\n",
       "      <td>54.780853</td>\n",
       "    </tr>\n",
       "    <tr>\n",
       "      <th>...</th>\n",
       "      <td>...</td>\n",
       "      <td>...</td>\n",
       "      <td>...</td>\n",
       "      <td>...</td>\n",
       "      <td>...</td>\n",
       "    </tr>\n",
       "    <tr>\n",
       "      <th>995</th>\n",
       "      <td>2.0175</td>\n",
       "      <td>40.35</td>\n",
       "      <td>C</td>\n",
       "      <td>16.052367</td>\n",
       "      <td>56.609024</td>\n",
       "    </tr>\n",
       "    <tr>\n",
       "      <th>996</th>\n",
       "      <td>48.6900</td>\n",
       "      <td>97.38</td>\n",
       "      <td>B</td>\n",
       "      <td>15.232024</td>\n",
       "      <td>55.659277</td>\n",
       "    </tr>\n",
       "    <tr>\n",
       "      <th>997</th>\n",
       "      <td>1.5920</td>\n",
       "      <td>31.84</td>\n",
       "      <td>A</td>\n",
       "      <td>14.874001</td>\n",
       "      <td>54.780853</td>\n",
       "    </tr>\n",
       "    <tr>\n",
       "      <th>998</th>\n",
       "      <td>3.2910</td>\n",
       "      <td>65.82</td>\n",
       "      <td>A</td>\n",
       "      <td>14.874001</td>\n",
       "      <td>54.780853</td>\n",
       "    </tr>\n",
       "    <tr>\n",
       "      <th>999</th>\n",
       "      <td>30.9190</td>\n",
       "      <td>88.34</td>\n",
       "      <td>A</td>\n",
       "      <td>14.874001</td>\n",
       "      <td>54.780853</td>\n",
       "    </tr>\n",
       "  </tbody>\n",
       "</table>\n",
       "<p>1000 rows × 5 columns</p>\n",
       "</div>"
      ],
      "text/plain": [
       "      Tax 5%  Unit price Branch  tax_branch_mean  unit_price_mean\n",
       "0    26.1415       74.69      A        14.874001        54.780853\n",
       "1     3.8200       15.28      C        16.052367        56.609024\n",
       "2    16.2155       46.33      A        14.874001        54.780853\n",
       "3    23.2880       58.22      A        14.874001        54.780853\n",
       "4    30.2085       86.31      A        14.874001        54.780853\n",
       "..       ...         ...    ...              ...              ...\n",
       "995   2.0175       40.35      C        16.052367        56.609024\n",
       "996  48.6900       97.38      B        15.232024        55.659277\n",
       "997   1.5920       31.84      A        14.874001        54.780853\n",
       "998   3.2910       65.82      A        14.874001        54.780853\n",
       "999  30.9190       88.34      A        14.874001        54.780853\n",
       "\n",
       "[1000 rows x 5 columns]"
      ]
     },
     "execution_count": 10,
     "metadata": {},
     "output_type": "execute_result"
    }
   ],
   "source": [
    "df[['Tax 5%', 'Unit price', 'Branch', 'tax_branch_mean', 'unit_price_mean']]"
   ]
  },
  {
   "cell_type": "markdown",
   "id": "d454a204",
   "metadata": {},
   "source": [
    "Indicator Variables\n",
    "- To signify the absence or availability of some information, indicator variables only take on the values 0 or 1.\n",
    "\n",
    "Interaction Terms\n",
    "- The presence of interaction effects between two or more variables leads to the creation of interaction terms. Although statistical methods can help detect them, subject expertise plays a key role (which is beyond the scope of this article). Free shipping, for example, may affect customer rating, but free shipping combined with quantity may have a different effect, which would be important to encode (assuming customer rating is the target variable in this case). The variable unit price 50 * qty is defined to be exactly that."
   ]
  },
  {
   "cell_type": "code",
   "execution_count": 12,
   "id": "00082549",
   "metadata": {},
   "outputs": [],
   "source": [
    "df['unit_price_50'] = np.where(df['Unit price'] > 50, 1, 0)\n",
    "df['unit_price_50 * qty'] = df['unit_price_50'] * df['Quantity']"
   ]
  },
  {
   "cell_type": "code",
   "execution_count": 13,
   "id": "f617eec8",
   "metadata": {},
   "outputs": [
    {
     "data": {
      "text/html": [
       "<div>\n",
       "<style scoped>\n",
       "    .dataframe tbody tr th:only-of-type {\n",
       "        vertical-align: middle;\n",
       "    }\n",
       "\n",
       "    .dataframe tbody tr th {\n",
       "        vertical-align: top;\n",
       "    }\n",
       "\n",
       "    .dataframe thead th {\n",
       "        text-align: right;\n",
       "    }\n",
       "</style>\n",
       "<table border=\"1\" class=\"dataframe\">\n",
       "  <thead>\n",
       "    <tr style=\"text-align: right;\">\n",
       "      <th></th>\n",
       "      <th>unit_price_50</th>\n",
       "      <th>unit_price_50 * qty</th>\n",
       "    </tr>\n",
       "  </thead>\n",
       "  <tbody>\n",
       "    <tr>\n",
       "      <th>0</th>\n",
       "      <td>1</td>\n",
       "      <td>7</td>\n",
       "    </tr>\n",
       "    <tr>\n",
       "      <th>1</th>\n",
       "      <td>0</td>\n",
       "      <td>0</td>\n",
       "    </tr>\n",
       "    <tr>\n",
       "      <th>2</th>\n",
       "      <td>0</td>\n",
       "      <td>0</td>\n",
       "    </tr>\n",
       "    <tr>\n",
       "      <th>3</th>\n",
       "      <td>1</td>\n",
       "      <td>8</td>\n",
       "    </tr>\n",
       "    <tr>\n",
       "      <th>4</th>\n",
       "      <td>1</td>\n",
       "      <td>7</td>\n",
       "    </tr>\n",
       "  </tbody>\n",
       "</table>\n",
       "</div>"
      ],
      "text/plain": [
       "   unit_price_50  unit_price_50 * qty\n",
       "0              1                    7\n",
       "1              0                    0\n",
       "2              0                    0\n",
       "3              1                    8\n",
       "4              1                    7"
      ]
     },
     "execution_count": 13,
     "metadata": {},
     "output_type": "execute_result"
    }
   ],
   "source": [
    "df[['unit_price_50', 'unit_price_50 * qty']].head()"
   ]
  },
  {
   "cell_type": "markdown",
   "id": "e012f4af",
   "metadata": {},
   "source": [
    "# Numeric Transformations\n"
   ]
  },
  {
   "cell_type": "markdown",
   "id": "460d8934",
   "metadata": {},
   "source": [
    "Numeric transformations are not considered feature engineering by some data scientists. This is due to the fact that many models, particularly newer ones such as tree-based models (decision trees, random forests, and so on), are unaffected by these modifications. To put it another way, completing these modifications has no effect on predictive performance. However, because other models, such as linear regression, are sensitive to the scale of their variables, these changes can make a huge impact."
   ]
  },
  {
   "cell_type": "markdown",
   "id": "3ed1d497",
   "metadata": {},
   "source": [
    "To account for the right skew in the variable cogs, we create a new variable log cogs. The result is depicted in the graphs below the code portion.\n",
    "\n",
    "If we feel the relationship between a predictor and target variable is not linear, but quadratic in nature, we can perform different adjustments such as squaring a variable (seen in the code chunk below) (as a predictor variable changes, target variable changes by an order of 2).\n",
    "\n",
    "It's up to your decision and domain knowledge whether we use cubed variables or any n degree polynomial term."
   ]
  },
  {
   "cell_type": "code",
   "execution_count": 14,
   "id": "dce0d846",
   "metadata": {},
   "outputs": [],
   "source": [
    "# numeric transformations\n",
    "\n",
    "df['log_cogs'] = np.log(df['cogs'] + 1)\n",
    "df['gross income squared'] = np.square(df['gross income'])"
   ]
  },
  {
   "cell_type": "code",
   "execution_count": 15,
   "id": "0b4220f7",
   "metadata": {},
   "outputs": [
    {
     "data": {
      "text/html": [
       "<div>\n",
       "<style scoped>\n",
       "    .dataframe tbody tr th:only-of-type {\n",
       "        vertical-align: middle;\n",
       "    }\n",
       "\n",
       "    .dataframe tbody tr th {\n",
       "        vertical-align: top;\n",
       "    }\n",
       "\n",
       "    .dataframe thead th {\n",
       "        text-align: right;\n",
       "    }\n",
       "</style>\n",
       "<table border=\"1\" class=\"dataframe\">\n",
       "  <thead>\n",
       "    <tr style=\"text-align: right;\">\n",
       "      <th></th>\n",
       "      <th>cogs</th>\n",
       "      <th>log_cogs</th>\n",
       "      <th>gross income</th>\n",
       "      <th>gross income squared</th>\n",
       "    </tr>\n",
       "  </thead>\n",
       "  <tbody>\n",
       "    <tr>\n",
       "      <th>0</th>\n",
       "      <td>522.83</td>\n",
       "      <td>6.261167</td>\n",
       "      <td>26.1415</td>\n",
       "      <td>683.378022</td>\n",
       "    </tr>\n",
       "    <tr>\n",
       "      <th>1</th>\n",
       "      <td>76.40</td>\n",
       "      <td>4.348987</td>\n",
       "      <td>3.8200</td>\n",
       "      <td>14.592400</td>\n",
       "    </tr>\n",
       "    <tr>\n",
       "      <th>2</th>\n",
       "      <td>324.31</td>\n",
       "      <td>5.784779</td>\n",
       "      <td>16.2155</td>\n",
       "      <td>262.942440</td>\n",
       "    </tr>\n",
       "    <tr>\n",
       "      <th>3</th>\n",
       "      <td>465.76</td>\n",
       "      <td>6.145815</td>\n",
       "      <td>23.2880</td>\n",
       "      <td>542.330944</td>\n",
       "    </tr>\n",
       "    <tr>\n",
       "      <th>4</th>\n",
       "      <td>604.17</td>\n",
       "      <td>6.405509</td>\n",
       "      <td>30.2085</td>\n",
       "      <td>912.553472</td>\n",
       "    </tr>\n",
       "  </tbody>\n",
       "</table>\n",
       "</div>"
      ],
      "text/plain": [
       "     cogs  log_cogs  gross income  gross income squared\n",
       "0  522.83  6.261167       26.1415            683.378022\n",
       "1   76.40  4.348987        3.8200             14.592400\n",
       "2  324.31  5.784779       16.2155            262.942440\n",
       "3  465.76  6.145815       23.2880            542.330944\n",
       "4  604.17  6.405509       30.2085            912.553472"
      ]
     },
     "execution_count": 15,
     "metadata": {},
     "output_type": "execute_result"
    }
   ],
   "source": [
    "df[['cogs', 'log_cogs', 'gross income', 'gross income squared']].head()"
   ]
  },
  {
   "cell_type": "code",
   "execution_count": 16,
   "id": "b923928c",
   "metadata": {},
   "outputs": [
    {
     "data": {
      "image/png": "[encoded data removed]",
      "text/plain": [
       "<Figure size 1080x432 with 2 Axes>"
      ]
     },
     "metadata": {},
     "output_type": "display_data"
    }
   ],
   "source": [
    "fig, (ax1, ax2) = plt.subplots(1, 2, figsize=(15,6))\n",
    "\n",
    "sns.histplot(df['cogs'], ax=ax1, kde=True)\n",
    "sns.histplot(df['log_cogs'], ax=ax2, kde=True);"
   ]
  },
  {
   "cell_type": "markdown",
   "id": "7fad3337",
   "metadata": {},
   "source": [
    "As can be seen, the log transformation made the Cost of Goods Sold (cogs) distribution more regularly distributed (or less right-skewed). Outliers that generated the initial skewness will have less of an impact on the weights/coefficients of models like linear regression.\n",
    "\n"
   ]
  },
  {
   "cell_type": "markdown",
   "id": "31dca702",
   "metadata": {},
   "source": [
    "Simillary in checklist approach we can do :\n",
    "- Numeric Scaling\n",
    "- Categorical Variable Handling\n",
    "- Missing Value Handling\n",
    "- Date-Time Decomposition\n"
   ]
  },
  {
   "cell_type": "markdown",
   "id": "fd709d2f",
   "metadata": {},
   "source": [
    "# Domain-based Approach\n"
   ]
  },
  {
   "cell_type": "markdown",
   "id": "ded4186a",
   "metadata": {},
   "source": [
    "The line between domain-based and checklist-based approaches to feature engineering is blurry. I believe the distinction is purely subjective; with domain-based features, you still use many of the techniques we've already discussed, but with a strong focus on domain knowledge.\n",
    "\n",
    "Many ad-hoc measures, such as ratios and formulas, will be used in domain-based features. In the case study example below, we'll see examples of this."
   ]
  },
  {
   "cell_type": "markdown",
   "id": "a185955f",
   "metadata": {},
   "source": [
    "Example - Movie Box Office Data\n"
   ]
  },
  {
   "cell_type": "markdown",
   "id": "e470797b",
   "metadata": {},
   "source": [
    "We'll be using movie box office data for our case study. More information on the dataset can be found by going here.\n",
    "\n",
    "Normally, we would begin by performing exploratory data analysis on the dataset, but as this is a feature engineering post, we will concentrate on that. Note that many of the feature engineering techniques shown below were inspired by a Kaggle kernel found here."
   ]
  },
  {
   "cell_type": "code",
   "execution_count": 19,
   "id": "edbb3b57",
   "metadata": {},
   "outputs": [
    {
     "data": {
      "text/html": [
       "<div>\n",
       "<style scoped>\n",
       "    .dataframe tbody tr th:only-of-type {\n",
       "        vertical-align: middle;\n",
       "    }\n",
       "\n",
       "    .dataframe tbody tr th {\n",
       "        vertical-align: top;\n",
       "    }\n",
       "\n",
       "    .dataframe thead th {\n",
       "        text-align: right;\n",
       "    }\n",
       "</style>\n",
       "<table border=\"1\" class=\"dataframe\">\n",
       "  <thead>\n",
       "    <tr style=\"text-align: right;\">\n",
       "      <th></th>\n",
       "      <th>id</th>\n",
       "      <th>belongs_to_collection</th>\n",
       "      <th>budget</th>\n",
       "      <th>genres</th>\n",
       "      <th>homepage</th>\n",
       "      <th>imdb_id</th>\n",
       "      <th>original_language</th>\n",
       "      <th>original_title</th>\n",
       "      <th>overview</th>\n",
       "      <th>popularity</th>\n",
       "      <th>...</th>\n",
       "      <th>release_date</th>\n",
       "      <th>runtime</th>\n",
       "      <th>spoken_languages</th>\n",
       "      <th>status</th>\n",
       "      <th>tagline</th>\n",
       "      <th>title</th>\n",
       "      <th>Keywords</th>\n",
       "      <th>cast</th>\n",
       "      <th>crew</th>\n",
       "      <th>revenue</th>\n",
       "    </tr>\n",
       "  </thead>\n",
       "  <tbody>\n",
       "    <tr>\n",
       "      <th>0</th>\n",
       "      <td>1</td>\n",
       "      <td>[{'id': 313576, 'name': 'Hot Tub Time Machine ...</td>\n",
       "      <td>14000000</td>\n",
       "      <td>[{'id': 35, 'name': 'Comedy'}]</td>\n",
       "      <td>NaN</td>\n",
       "      <td>tt2637294</td>\n",
       "      <td>en</td>\n",
       "      <td>Hot Tub Time Machine 2</td>\n",
       "      <td>When Lou, who has become the \"father of the In...</td>\n",
       "      <td>6.575393</td>\n",
       "      <td>...</td>\n",
       "      <td>2/20/15</td>\n",
       "      <td>93.0</td>\n",
       "      <td>[{'iso_639_1': 'en', 'name': 'English'}]</td>\n",
       "      <td>Released</td>\n",
       "      <td>The Laws of Space and Time are About to be Vio...</td>\n",
       "      <td>Hot Tub Time Machine 2</td>\n",
       "      <td>[{'id': 4379, 'name': 'time travel'}, {'id': 9...</td>\n",
       "      <td>[{'cast_id': 4, 'character': 'Lou', 'credit_id...</td>\n",
       "      <td>[{'credit_id': '59ac067c92514107af02c8c8', 'de...</td>\n",
       "      <td>12314651</td>\n",
       "    </tr>\n",
       "    <tr>\n",
       "      <th>1</th>\n",
       "      <td>2</td>\n",
       "      <td>[{'id': 107674, 'name': 'The Princess Diaries ...</td>\n",
       "      <td>40000000</td>\n",
       "      <td>[{'id': 35, 'name': 'Comedy'}, {'id': 18, 'nam...</td>\n",
       "      <td>NaN</td>\n",
       "      <td>tt0368933</td>\n",
       "      <td>en</td>\n",
       "      <td>The Princess Diaries 2: Royal Engagement</td>\n",
       "      <td>Mia Thermopolis is now a college graduate and ...</td>\n",
       "      <td>8.248895</td>\n",
       "      <td>...</td>\n",
       "      <td>8/6/04</td>\n",
       "      <td>113.0</td>\n",
       "      <td>[{'iso_639_1': 'en', 'name': 'English'}]</td>\n",
       "      <td>Released</td>\n",
       "      <td>It can take a lifetime to find true love; she'...</td>\n",
       "      <td>The Princess Diaries 2: Royal Engagement</td>\n",
       "      <td>[{'id': 2505, 'name': 'coronation'}, {'id': 42...</td>\n",
       "      <td>[{'cast_id': 1, 'character': 'Mia Thermopolis'...</td>\n",
       "      <td>[{'credit_id': '52fe43fe9251416c7502563d', 'de...</td>\n",
       "      <td>95149435</td>\n",
       "    </tr>\n",
       "    <tr>\n",
       "      <th>2</th>\n",
       "      <td>3</td>\n",
       "      <td>NaN</td>\n",
       "      <td>3300000</td>\n",
       "      <td>[{'id': 18, 'name': 'Drama'}]</td>\n",
       "      <td>http://sonyclassics.com/whiplash/</td>\n",
       "      <td>tt2582802</td>\n",
       "      <td>en</td>\n",
       "      <td>Whiplash</td>\n",
       "      <td>Under the direction of a ruthless instructor, ...</td>\n",
       "      <td>64.299990</td>\n",
       "      <td>...</td>\n",
       "      <td>10/10/14</td>\n",
       "      <td>105.0</td>\n",
       "      <td>[{'iso_639_1': 'en', 'name': 'English'}]</td>\n",
       "      <td>Released</td>\n",
       "      <td>The road to greatness can take you to the edge.</td>\n",
       "      <td>Whiplash</td>\n",
       "      <td>[{'id': 1416, 'name': 'jazz'}, {'id': 1523, 'n...</td>\n",
       "      <td>[{'cast_id': 5, 'character': 'Andrew Neimann',...</td>\n",
       "      <td>[{'credit_id': '54d5356ec3a3683ba0000039', 'de...</td>\n",
       "      <td>13092000</td>\n",
       "    </tr>\n",
       "    <tr>\n",
       "      <th>3</th>\n",
       "      <td>4</td>\n",
       "      <td>NaN</td>\n",
       "      <td>1200000</td>\n",
       "      <td>[{'id': 53, 'name': 'Thriller'}, {'id': 18, 'n...</td>\n",
       "      <td>http://kahaanithefilm.com/</td>\n",
       "      <td>tt1821480</td>\n",
       "      <td>hi</td>\n",
       "      <td>Kahaani</td>\n",
       "      <td>Vidya Bagchi (Vidya Balan) arrives in Kolkata ...</td>\n",
       "      <td>3.174936</td>\n",
       "      <td>...</td>\n",
       "      <td>3/9/12</td>\n",
       "      <td>122.0</td>\n",
       "      <td>[{'iso_639_1': 'en', 'name': 'English'}, {'iso...</td>\n",
       "      <td>Released</td>\n",
       "      <td>NaN</td>\n",
       "      <td>Kahaani</td>\n",
       "      <td>[{'id': 10092, 'name': 'mystery'}, {'id': 1054...</td>\n",
       "      <td>[{'cast_id': 1, 'character': 'Vidya Bagchi', '...</td>\n",
       "      <td>[{'credit_id': '52fe48779251416c9108d6eb', 'de...</td>\n",
       "      <td>16000000</td>\n",
       "    </tr>\n",
       "    <tr>\n",
       "      <th>4</th>\n",
       "      <td>5</td>\n",
       "      <td>NaN</td>\n",
       "      <td>0</td>\n",
       "      <td>[{'id': 28, 'name': 'Action'}, {'id': 53, 'nam...</td>\n",
       "      <td>NaN</td>\n",
       "      <td>tt1380152</td>\n",
       "      <td>ko</td>\n",
       "      <td>마린보이</td>\n",
       "      <td>Marine Boy is the story of a former national s...</td>\n",
       "      <td>1.148070</td>\n",
       "      <td>...</td>\n",
       "      <td>2/5/09</td>\n",
       "      <td>118.0</td>\n",
       "      <td>[{'iso_639_1': 'ko', 'name': '한국어/조선말'}]</td>\n",
       "      <td>Released</td>\n",
       "      <td>NaN</td>\n",
       "      <td>Marine Boy</td>\n",
       "      <td>NaN</td>\n",
       "      <td>[{'cast_id': 3, 'character': 'Chun-soo', 'cred...</td>\n",
       "      <td>[{'credit_id': '52fe464b9251416c75073b43', 'de...</td>\n",
       "      <td>3923970</td>\n",
       "    </tr>\n",
       "  </tbody>\n",
       "</table>\n",
       "<p>5 rows × 23 columns</p>\n",
       "</div>"
      ],
      "text/plain": [
       "   id                              belongs_to_collection    budget  \\\n",
       "0   1  [{'id': 313576, 'name': 'Hot Tub Time Machine ...  14000000   \n",
       "1   2  [{'id': 107674, 'name': 'The Princess Diaries ...  40000000   \n",
       "2   3                                                NaN   3300000   \n",
       "3   4                                                NaN   1200000   \n",
       "4   5                                                NaN         0   \n",
       "\n",
       "                                              genres  \\\n",
       "0                     [{'id': 35, 'name': 'Comedy'}]   \n",
       "1  [{'id': 35, 'name': 'Comedy'}, {'id': 18, 'nam...   \n",
       "2                      [{'id': 18, 'name': 'Drama'}]   \n",
       "3  [{'id': 53, 'name': 'Thriller'}, {'id': 18, 'n...   \n",
       "4  [{'id': 28, 'name': 'Action'}, {'id': 53, 'nam...   \n",
       "\n",
       "                            homepage    imdb_id original_language  \\\n",
       "0                                NaN  tt2637294                en   \n",
       "1                                NaN  tt0368933                en   \n",
       "2  http://sonyclassics.com/whiplash/  tt2582802                en   \n",
       "3         http://kahaanithefilm.com/  tt1821480                hi   \n",
       "4                                NaN  tt1380152                ko   \n",
       "\n",
       "                             original_title  \\\n",
       "0                    Hot Tub Time Machine 2   \n",
       "1  The Princess Diaries 2: Royal Engagement   \n",
       "2                                  Whiplash   \n",
       "3                                   Kahaani   \n",
       "4                                      마린보이   \n",
       "\n",
       "                                            overview  popularity  ...  \\\n",
       "0  When Lou, who has become the \"father of the In...    6.575393  ...   \n",
       "1  Mia Thermopolis is now a college graduate and ...    8.248895  ...   \n",
       "2  Under the direction of a ruthless instructor, ...   64.299990  ...   \n",
       "3  Vidya Bagchi (Vidya Balan) arrives in Kolkata ...    3.174936  ...   \n",
       "4  Marine Boy is the story of a former national s...    1.148070  ...   \n",
       "\n",
       "  release_date runtime                                   spoken_languages  \\\n",
       "0      2/20/15    93.0           [{'iso_639_1': 'en', 'name': 'English'}]   \n",
       "1       8/6/04   113.0           [{'iso_639_1': 'en', 'name': 'English'}]   \n",
       "2     10/10/14   105.0           [{'iso_639_1': 'en', 'name': 'English'}]   \n",
       "3       3/9/12   122.0  [{'iso_639_1': 'en', 'name': 'English'}, {'iso...   \n",
       "4       2/5/09   118.0           [{'iso_639_1': 'ko', 'name': '한국어/조선말'}]   \n",
       "\n",
       "     status                                            tagline  \\\n",
       "0  Released  The Laws of Space and Time are About to be Vio...   \n",
       "1  Released  It can take a lifetime to find true love; she'...   \n",
       "2  Released    The road to greatness can take you to the edge.   \n",
       "3  Released                                                NaN   \n",
       "4  Released                                                NaN   \n",
       "\n",
       "                                      title  \\\n",
       "0                    Hot Tub Time Machine 2   \n",
       "1  The Princess Diaries 2: Royal Engagement   \n",
       "2                                  Whiplash   \n",
       "3                                   Kahaani   \n",
       "4                                Marine Boy   \n",
       "\n",
       "                                            Keywords  \\\n",
       "0  [{'id': 4379, 'name': 'time travel'}, {'id': 9...   \n",
       "1  [{'id': 2505, 'name': 'coronation'}, {'id': 42...   \n",
       "2  [{'id': 1416, 'name': 'jazz'}, {'id': 1523, 'n...   \n",
       "3  [{'id': 10092, 'name': 'mystery'}, {'id': 1054...   \n",
       "4                                                NaN   \n",
       "\n",
       "                                                cast  \\\n",
       "0  [{'cast_id': 4, 'character': 'Lou', 'credit_id...   \n",
       "1  [{'cast_id': 1, 'character': 'Mia Thermopolis'...   \n",
       "2  [{'cast_id': 5, 'character': 'Andrew Neimann',...   \n",
       "3  [{'cast_id': 1, 'character': 'Vidya Bagchi', '...   \n",
       "4  [{'cast_id': 3, 'character': 'Chun-soo', 'cred...   \n",
       "\n",
       "                                                crew   revenue  \n",
       "0  [{'credit_id': '59ac067c92514107af02c8c8', 'de...  12314651  \n",
       "1  [{'credit_id': '52fe43fe9251416c7502563d', 'de...  95149435  \n",
       "2  [{'credit_id': '54d5356ec3a3683ba0000039', 'de...  13092000  \n",
       "3  [{'credit_id': '52fe48779251416c9108d6eb', 'de...  16000000  \n",
       "4  [{'credit_id': '52fe464b9251416c75073b43', 'de...   3923970  \n",
       "\n",
       "[5 rows x 23 columns]"
      ]
     },
     "execution_count": 19,
     "metadata": {},
     "output_type": "execute_result"
    }
   ],
   "source": [
    "df = pd.read_csv('movies.csv')\n",
    "df.head()"
   ]
  },
  {
   "cell_type": "markdown",
   "id": "632c90c8",
   "metadata": {},
   "source": [
    "Filling missing values"
   ]
  },
  {
   "cell_type": "markdown",
   "id": "d898bd47",
   "metadata": {},
   "source": [
    "Let's start with missing values. We use Seaborn to display them and then use the median and mode to fill in numeric and categorical missing values."
   ]
  },
  {
   "cell_type": "code",
   "execution_count": 20,
   "id": "913c63b8",
   "metadata": {},
   "outputs": [
    {
     "data": {
      "image/png": "[encoded data removed]",
      "text/plain": [
       "<Figure size 1080x1080 with 1 Axes>"
      ]
     },
     "metadata": {},
     "output_type": "display_data"
    }
   ],
   "source": [
    "plt.figure(figsize=(15, 15))\n",
    "sns.heatmap(df.isnull(), cbar=False);"
   ]
  },
  {
   "cell_type": "markdown",
   "id": "ff53fe9d",
   "metadata": {},
   "source": [
    "The median will be used to fill in the missing numeric variables, and the mode will be used to fill in the blank category column. After we finish feature engineering the other columns, we'll address the categorical missing data (at the very end).\n",
    "\n",
    "There is no clear and fast rule for deciding which missing value imputation method to use. Most practitioners evaluate several missing value imputation strategies before selecting the one with the highest evaluation score."
   ]
  },
  {
   "cell_type": "markdown",
   "id": "892c8510",
   "metadata": {},
   "source": [
    "# Decomposing Date"
   ]
  },
  {
   "cell_type": "markdown",
   "id": "a7e8381a",
   "metadata": {},
   "source": [
    "We can now break down the date column into its constituent characteristics. Because there is no quantitative relationship between month and day, we encode them as string variables. Days and months have set boundaries (the month cannot exceed 12 and the day cannot exceed 31). The days 10 and 31 are just different (think of them as categories).\n",
    "\n",
    "Let's separate the year, month, and day columns in the dataframe:"
   ]
  },
  {
   "cell_type": "code",
   "execution_count": 21,
   "id": "081a1384",
   "metadata": {},
   "outputs": [
    {
     "data": {
      "text/html": [
       "<div>\n",
       "<style scoped>\n",
       "    .dataframe tbody tr th:only-of-type {\n",
       "        vertical-align: middle;\n",
       "    }\n",
       "\n",
       "    .dataframe tbody tr th {\n",
       "        vertical-align: top;\n",
       "    }\n",
       "\n",
       "    .dataframe thead th {\n",
       "        text-align: right;\n",
       "    }\n",
       "</style>\n",
       "<table border=\"1\" class=\"dataframe\">\n",
       "  <thead>\n",
       "    <tr style=\"text-align: right;\">\n",
       "      <th></th>\n",
       "      <th>Year</th>\n",
       "      <th>Month</th>\n",
       "      <th>Day</th>\n",
       "    </tr>\n",
       "  </thead>\n",
       "  <tbody>\n",
       "    <tr>\n",
       "      <th>0</th>\n",
       "      <td>2015</td>\n",
       "      <td>2</td>\n",
       "      <td>20</td>\n",
       "    </tr>\n",
       "    <tr>\n",
       "      <th>1</th>\n",
       "      <td>2004</td>\n",
       "      <td>8</td>\n",
       "      <td>6</td>\n",
       "    </tr>\n",
       "    <tr>\n",
       "      <th>2</th>\n",
       "      <td>2014</td>\n",
       "      <td>10</td>\n",
       "      <td>10</td>\n",
       "    </tr>\n",
       "    <tr>\n",
       "      <th>3</th>\n",
       "      <td>2012</td>\n",
       "      <td>3</td>\n",
       "      <td>9</td>\n",
       "    </tr>\n",
       "    <tr>\n",
       "      <th>4</th>\n",
       "      <td>2009</td>\n",
       "      <td>2</td>\n",
       "      <td>5</td>\n",
       "    </tr>\n",
       "  </tbody>\n",
       "</table>\n",
       "</div>"
      ],
      "text/plain": [
       "   Year Month Day\n",
       "0  2015     2  20\n",
       "1  2004     8   6\n",
       "2  2014    10  10\n",
       "3  2012     3   9\n",
       "4  2009     2   5"
      ]
     },
     "execution_count": 21,
     "metadata": {},
     "output_type": "execute_result"
    }
   ],
   "source": [
    "df['release_date'] = pd.to_datetime(df['release_date'])\n",
    "\n",
    "# decomposition\n",
    "df['Year'] = df['release_date'].dt.year\n",
    "df['Month'] = df['release_date'].dt.month.astype(str)\n",
    "df['Day'] = df['release_date'].dt.day.astype(str)\n",
    "\n",
    "df[['Year','Month','Day']].head()"
   ]
  },
  {
   "cell_type": "markdown",
   "id": "4c83362f",
   "metadata": {},
   "source": [
    "# Adjusting budget"
   ]
  },
  {
   "cell_type": "markdown",
   "id": "5a5bd529",
   "metadata": {},
   "source": [
    "We use the logarithm of the budget to account for the right-skewed nature of the budget. Because many movies have a budget of $0, we use the logarithm of the budget Plus 1 instead of the logarithm of 0."
   ]
  },
  {
   "cell_type": "code",
   "execution_count": 22,
   "id": "c91f86ae",
   "metadata": {},
   "outputs": [
    {
     "ename": "NameError",
     "evalue": "name 'plot_hist' is not defined",
     "output_type": "error",
     "traceback": [
      "\u001b[0;31m---------------------------------------------------------------------------\u001b[0m",
      "\u001b[0;31mNameError\u001b[0m                                 Traceback (most recent call last)",
      "Input \u001b[0;32mIn [22]\u001b[0m, in \u001b[0;36m<module>\u001b[0;34m\u001b[0m\n\u001b[1;32m      1\u001b[0m df[\u001b[38;5;124m'\u001b[39m\u001b[38;5;124mlog_budget\u001b[39m\u001b[38;5;124m'\u001b[39m] \u001b[38;5;241m=\u001b[39m np\u001b[38;5;241m.\u001b[39mlog(df[\u001b[38;5;124m'\u001b[39m\u001b[38;5;124mbudget\u001b[39m\u001b[38;5;124m'\u001b[39m] \u001b[38;5;241m+\u001b[39m \u001b[38;5;241m1\u001b[39m)\n\u001b[0;32m----> 3\u001b[0m \u001b[43mplot_hist\u001b[49m(df[\u001b[38;5;124m'\u001b[39m\u001b[38;5;124mbudget\u001b[39m\u001b[38;5;124m'\u001b[39m], df[\u001b[38;5;124m'\u001b[39m\u001b[38;5;124mlog_budget\u001b[39m\u001b[38;5;124m'\u001b[39m])\n",
      "\u001b[0;31mNameError\u001b[0m: name 'plot_hist' is not defined"
     ]
    }
   ],
   "source": [
    "df['log_budget'] = np.log(df['budget'] + 1)\n",
    "\n",
    "plot_hist(df['budget'], df['log_budget'])"
   ]
  },
  {
   "cell_type": "markdown",
   "id": "b7f1757a",
   "metadata": {},
   "source": [
    "# Prediction\n"
   ]
  },
  {
   "cell_type": "markdown",
   "id": "8defc22c",
   "metadata": {},
   "source": [
    "We can develop a simple regression model to forecast movie income to show that feature engineering works and improves model performance.\n",
    "\n",
    "Normally, we choose which features to utilize using a process called feature selection, but since this post is about feature engineering, we'll use a simpler method: correlation analysis."
   ]
  },
  {
   "cell_type": "markdown",
   "id": "c1604f14",
   "metadata": {},
   "source": [
    "We can see that most of the variables we produced aren't very predictive of revenue by plotting the correlation matrix (below). Most of the time, this is what happens: you design a lot of features, but only a few of them are useful - but the ones that are valuable make a difference."
   ]
  }
 ],
 "metadata": {
  "kernelspec": {
   "display_name": "Python 3 (ipykernel)",
   "language": "python",
   "name": "python3"
  },
  "language_info": {
   "codemirror_mode": {
    "name": "ipython",
    "version": 3
   },
   "file_extension": ".py",
   "mimetype": "text/x-python",
   "name": "python",
   "nbconvert_exporter": "python",
   "pygments_lexer": "ipython3",
   "version": "3.9.10"
  }
 },
 "nbformat": 4,
 "nbformat_minor": 5
}
